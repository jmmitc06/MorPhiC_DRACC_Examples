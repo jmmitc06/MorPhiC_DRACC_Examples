{
 "cells": [
  {
   "cell_type": "code",
   "execution_count": 15,
   "metadata": {},
   "outputs": [],
   "source": [
    "# Step 2 - make the sequence sheets for pcpfm inputs \n",
    "\n",
    "import pandas as pd\n",
    "import os\n",
    "\n",
    "sample_meta = pd.read_csv(\"/Users/mitchjo/Datasets/iPSC_Atlas_11_21_24/09222023_HMGCS2_Zukai_Cellpellets/09222023_Zukai_cellpellets_HILICneg_RPpos.csv\")\n",
    "fnames = sample_meta[\"File Name\"].values\n",
    "fpaths = [os.path.join(\"/Users/mitchjo/Datasets/iPSC_Atlas_11_21_24/09222023_HMGCS2_Zukai_Cellpellets\", fname + \".mzML\") for fname in fnames]\n",
    "sample_meta['Filepath'] = fpaths"
   ]
  },
  {
   "cell_type": "code",
   "execution_count": 16,
   "metadata": {},
   "outputs": [],
   "source": [
    "HILIC_sub = sample_meta[sample_meta[\"File Name\"].str.contains(\"HILIC\")]\n",
    "HILIC_sub.to_csv(\"./HMGCS2_HILIC_CellPellets.csv\")\n",
    "\n",
    "RP_sub = sample_meta[sample_meta[\"File Name\"].str.contains(\"RP\")]\n",
    "RP_sub.to_csv(\"./HMGCS2_RP_CellPellets.csv\")"
   ]
  }
 ],
 "metadata": {
  "kernelspec": {
   "display_name": "Python 3",
   "language": "python",
   "name": "python3"
  },
  "language_info": {
   "codemirror_mode": {
    "name": "ipython",
    "version": 3
   },
   "file_extension": ".py",
   "mimetype": "text/x-python",
   "name": "python",
   "nbconvert_exporter": "python",
   "pygments_lexer": "ipython3",
   "version": "3.11.6"
  }
 },
 "nbformat": 4,
 "nbformat_minor": 2
}
