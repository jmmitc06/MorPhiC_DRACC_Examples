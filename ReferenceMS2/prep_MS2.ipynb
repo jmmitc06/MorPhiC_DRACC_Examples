{
 "cells": [
  {
   "cell_type": "code",
   "execution_count": 4,
   "metadata": {},
   "outputs": [
    {
     "name": "stdout",
     "output_type": "stream",
     "text": [
      "/Users/mitchjo/ATLAS/ReferenceMS2\n"
     ]
    },
    {
     "name": "stderr",
     "output_type": "stream",
     "text": [
      "/Users/mitchjo/Library/Python/3.11/lib/python/site-packages/IPython/core/magics/osm.py:417: UserWarning: This is now an optional IPython functionality, setting dhist requires you to install the `pickleshare` library.\n",
      "  self.shell.db['dhist'] = compress_dhist(dhist)[-100:]\n"
     ]
    }
   ],
   "source": [
    "# MS2 Prep - first convert .raw to .mzML\n",
    "\n",
    "\n",
    "%cd /Users/mitchjo/ATLAS/ReferenceMS2\n",
    "!cp /Users/mitchjo/ATLAS/HMGCS2/convert.py /Users/mitchjo/ATLAS/ReferenceMS2/CellPellets/10112023_iPSC_HILICneg_regular\n",
    "!cp /Users/mitchjo/ATLAS/HMGCS2/convert.py /Users/mitchjo/ATLAS/ReferenceMS2/CellPellets/10112023_iPSC_HILICpos_regular\n",
    "!cp /Users/mitchjo/ATLAS/HMGCS2/convert.py /Users/mitchjo/ATLAS/ReferenceMS2/CellPellets/10112023_iPSC_RPneg_regular\n",
    "!cp /Users/mitchjo/ATLAS/HMGCS2/convert.py /Users/mitchjo/ATLAS/ReferenceMS2/CellPellets/10112023_iPSC_RPpos_regular"
   ]
  },
  {
   "cell_type": "code",
   "execution_count": 5,
   "metadata": {},
   "outputs": [
    {
     "name": "stdout",
     "output_type": "stream",
     "text": [
      "/Users/mitchjo/ATLAS/ReferenceMS2/CellPellets/10112023_iPSC_HILICneg_regular\n",
      "2024-11-25 13:39:23 INFO Started parsing /Users/mitchjo/ATLAS/ReferenceMS2/CellPellets/10112023_iPSC_HILICneg_regular/iPSC_WT_Cellpellets_HILICpos_MS2_round7.raw\n",
      "2024-11-25 13:39:23 INFO Started parsing /Users/mitchjo/ATLAS/ReferenceMS2/CellPellets/10112023_iPSC_HILICneg_regular/iPSC_WT_Cellpellets_HILICpos_MS2_round6.raw\n",
      "2024-11-25 13:39:23 INFO Started parsing /Users/mitchjo/ATLAS/ReferenceMS2/CellPellets/10112023_iPSC_HILICneg_regular/iPSC_WT_Cellpellets_HILICpos_MS2_round3.raw\n",
      "2024-11-25 13:39:23 INFO Started parsing /Users/mitchjo/ATLAS/ReferenceMS2/CellPellets/10112023_iPSC_HILICneg_regular/iPSC_WT_Cellpellets_HILICpos_MS2_round1.raw\n",
      "2024-11-25 13:39:23 INFO Started parsing /Users/mitchjo/ATLAS/ReferenceMS2/CellPellets/10112023_iPSC_HILICneg_regular/iPSC_WT_Cellpellets_HILICpos_MS2_round2.raw\n",
      "2024-11-25 13:39:23 INFO Started parsing /Users/mitchjo/ATLAS/ReferenceMS2/CellPellets/10112023_iPSC_HILICneg_regular/iPSC_WT_Cellpellets_HILICpos_MS2_round4.raw\n",
      "2024-11-25 13:39:23 INFO Started parsing /Users/mitchjo/ATLAS/ReferenceMS2/CellPellets/10112023_iPSC_HILICneg_regular/iPSC_WT_Cellpellets_HILICpos_MS2_round5.raw\n",
      "2024-11-25 13:39:24 INFO Started parsing /Users/mitchjo/ATLAS/ReferenceMS2/CellPellets/10112023_iPSC_HILICneg_regular/iPSC_WT_Cellpellets_HILICpos_fullscan_inclusionreference.raw\n",
      "2024-11-25 13:39:24 INFO Started parsing /Users/mitchjo/ATLAS/ReferenceMS2/CellPellets/10112023_iPSC_HILICneg_regular/iPSC_WT_Cellpellets_HILICpos_MS2_round10.raw\n",
      "2024-11-25 13:39:24 INFO Started parsing /Users/mitchjo/ATLAS/ReferenceMS2/CellPellets/10112023_iPSC_HILICneg_regular/iPSC_WT_Cellpellets_HILICpos_MS2_round8.raw\n",
      "2024-11-25 13:39:24 INFO Started parsing /Users/mitchjo/ATLAS/ReferenceMS2/CellPellets/10112023_iPSC_HILICneg_regular/Blank_Condition_01.raw\n",
      "2024-11-25 13:39:35 INFO Processing 2897 MS scans\n",
      "2024-11-25 13:39:35 INFO Processing 2894 MS scans\n",
      "2024-11-25 13:39:35 INFO Processing 2902 MS scans\n",
      "2024-11-25 13:39:35 INFO Processing 2883 MS scans\n",
      "2024-11-25 13:39:36 INFO Processing 2891 MS scans\n",
      "2024-11-25 13:39:36 INFO Processing 2879 MS scans\n",
      "2024-11-25 13:39:36 INFO Processing 2886 MS scans\n",
      "2024-11-25 13:39:37 INFO Processing 2899 MS scans\n",
      "2024-11-25 13:39:37 INFO Processing 2896 MS scans\n",
      "2024-11-25 13:39:38 INFO Processing 2193 MS scans\n",
      "2024-11-25 13:39:39 INFO Processing 2235 MS scans\n",
      "10% 10% 10% 10% 10% 10% 10% 10% 10% 20% 20% 20% 20% 20% 20% 20% 20% 20% 10% 10% 30% 30% 30% 30% 30% 30% 30% 30% 30% 40% 40% 40% 40% 40% 40% 40% 40% 20% 40% 50% 20% 50% 50% 50% 50% 50% 50% 50% 60% 50% 60% 60% 60% 60% 60% 60% 60% 30% 60% 70% 70% 30% 70% 70% 70% 70% 70% 70% 80% 80% 70% 80% 80% 80% 80% 80% 40% 80% 90% 90% 80% 90% 90% 40% 90% 90% 90% 90% 100% \n",
      "\n",
      "100% \n",
      "\n",
      "90% 100% \n",
      "\n",
      "2024-11-25 13:40:11 INFO Finished parsing /Users/mitchjo/ATLAS/ReferenceMS2/CellPellets/10112023_iPSC_HILICneg_regular/iPSC_WT_Cellpellets_HILICpos_MS2_round6.raw\n",
      "2024-11-25 13:40:11 INFO Processing completed 0 errors, 0 warnings\n",
      "100% \n",
      "\n",
      "2024-11-25 13:40:12 INFO Finished parsing /Users/mitchjo/ATLAS/ReferenceMS2/CellPellets/10112023_iPSC_HILICneg_regular/iPSC_WT_Cellpellets_HILICpos_MS2_round2.raw\n",
      "100% \n",
      "\n",
      "2024-11-25 13:40:12 INFO Processing completed 0 errors, 0 warnings\n",
      "100% \n",
      "\n",
      "2024-11-25 13:40:12 INFO Finished parsing /Users/mitchjo/ATLAS/ReferenceMS2/CellPellets/10112023_iPSC_HILICneg_regular/iPSC_WT_Cellpellets_HILICpos_MS2_round1.raw\n",
      "2024-11-25 13:40:12 INFO Processing completed 0 errors, 0 warnings\n",
      "100% \n",
      "\n",
      "100% \n",
      "\n",
      "2024-11-25 13:40:13 INFO Finished parsing /Users/mitchjo/ATLAS/ReferenceMS2/CellPellets/10112023_iPSC_HILICneg_regular/iPSC_WT_Cellpellets_HILICpos_MS2_round3.raw\n",
      "2024-11-25 13:40:13 INFO Finished parsing /Users/mitchjo/ATLAS/ReferenceMS2/CellPellets/10112023_iPSC_HILICneg_regular/iPSC_WT_Cellpellets_HILICpos_MS2_round8.raw\n",
      "2024-11-25 13:40:13 INFO Processing completed 0 errors, 0 warnings\n",
      "50% 2024-11-25 13:40:13 INFO Processing completed 0 errors, 0 warnings\n",
      "2024-11-25 13:40:13 INFO Finished parsing /Users/mitchjo/ATLAS/ReferenceMS2/CellPellets/10112023_iPSC_HILICneg_regular/iPSC_WT_Cellpellets_HILICpos_MS2_round4.raw\n",
      "100% 2024-11-25 13:40:13 INFO Processing completed 0 errors, 0 warnings\n",
      "\n",
      "\n",
      "50% 2024-11-25 13:40:14 INFO Finished parsing /Users/mitchjo/ATLAS/ReferenceMS2/CellPellets/10112023_iPSC_HILICneg_regular/iPSC_WT_Cellpellets_HILICpos_MS2_round7.raw\n",
      "2024-11-25 13:40:14 INFO Processing completed 0 errors, 0 warnings\n",
      "2024-11-25 13:40:14 INFO Finished parsing /Users/mitchjo/ATLAS/ReferenceMS2/CellPellets/10112023_iPSC_HILICneg_regular/iPSC_WT_Cellpellets_HILICpos_MS2_round10.raw\n",
      "2024-11-25 13:40:14 INFO Processing completed 0 errors, 0 warnings\n",
      "2024-11-25 13:40:14 INFO Finished parsing /Users/mitchjo/ATLAS/ReferenceMS2/CellPellets/10112023_iPSC_HILICneg_regular/iPSC_WT_Cellpellets_HILICpos_MS2_round5.raw\n",
      "2024-11-25 13:40:14 INFO Processing completed 0 errors, 0 warnings\n",
      "60% 60% 2024-11-25 13:40:16 INFO Started parsing /Users/mitchjo/ATLAS/ReferenceMS2/CellPellets/10112023_iPSC_HILICneg_regular/Blank_Exclusion_02.raw\n",
      "2024-11-25 13:40:16 INFO Started parsing /Users/mitchjo/ATLAS/ReferenceMS2/CellPellets/10112023_iPSC_HILICneg_regular/iPSC_WT_Cellpellets_HILICpos_MS2_round9.raw\n",
      "70% 70% 80% 80% 90% 90% 100% \n",
      "\n",
      "2024-11-25 13:40:26 INFO Processing 2896 MS scans\n",
      "100% \n",
      "\n",
      "2024-11-25 13:40:26 INFO Finished parsing /Users/mitchjo/ATLAS/ReferenceMS2/CellPellets/10112023_iPSC_HILICneg_regular/Blank_Condition_01.raw\n",
      "2024-11-25 13:40:26 INFO Processing 2205 MS scans\n",
      "2024-11-25 13:40:27 INFO Processing completed 0 errors, 0 warnings\n",
      "2024-11-25 13:40:27 INFO Finished parsing /Users/mitchjo/ATLAS/ReferenceMS2/CellPellets/10112023_iPSC_HILICneg_regular/iPSC_WT_Cellpellets_HILICpos_fullscan_inclusionreference.raw\n",
      "2024-11-25 13:40:27 INFO Processing completed 0 errors, 0 warnings\n",
      "10% 20% 10% 30% 20% 40% 50% 60% 30% 70% 80% 40% 90% 50% 100% \n",
      "\n",
      "2024-11-25 13:40:45 INFO Finished parsing /Users/mitchjo/ATLAS/ReferenceMS2/CellPellets/10112023_iPSC_HILICneg_regular/iPSC_WT_Cellpellets_HILICpos_MS2_round9.raw\n",
      "2024-11-25 13:40:45 INFO Processing completed 0 errors, 0 warnings\n",
      "60% 70% 80% 90% 100% \n",
      "\n",
      "2024-11-25 13:40:56 INFO Finished parsing /Users/mitchjo/ATLAS/ReferenceMS2/CellPellets/10112023_iPSC_HILICneg_regular/Blank_Exclusion_02.raw\n",
      "2024-11-25 13:40:56 INFO Processing completed 0 errors, 0 warnings\n",
      "/Users/mitchjo/ATLAS/ReferenceMS2/CellPellets/10112023_iPSC_HILICpos_regular\n",
      "/Users/mitchjo/ATLAS/ReferenceMS2/CellPellets/10112023_iPSC_RPneg_regular\n",
      "/Users/mitchjo/ATLAS/ReferenceMS2/CellPellets/10112023_iPSC_RPpos_regular\n"
     ]
    }
   ],
   "source": [
    "%cd /Users/mitchjo/ATLAS/ReferenceMS2/CellPellets/10112023_iPSC_HILICneg_regular\n",
    "!python3 convert.py\n",
    "!rm -rf *.raw\n",
    "\n",
    "%cd /Users/mitchjo/ATLAS/ReferenceMS2/CellPellets/10112023_iPSC_HILICpos_regular\n",
    "!python3 convert.py\n",
    "!rm -rf *.raw\n",
    "\n",
    "%cd /Users/mitchjo/ATLAS/ReferenceMS2/CellPellets/10112023_iPSC_RPneg_regular\n",
    "!python3 convert.py\n",
    "!rm -rf *.raw\n",
    "\n",
    "%cd /Users/mitchjo/ATLAS/ReferenceMS2/CellPellets/10112023_iPSC_RPpos_regular\n",
    "!python3 convert.py\n",
    "!rm -rf *.raw"
   ]
  }
 ],
 "metadata": {
  "kernelspec": {
   "display_name": "Python 3",
   "language": "python",
   "name": "python3"
  },
  "language_info": {
   "codemirror_mode": {
    "name": "ipython",
    "version": 3
   },
   "file_extension": ".py",
   "mimetype": "text/x-python",
   "name": "python",
   "nbconvert_exporter": "python",
   "pygments_lexer": "ipython3",
   "version": "3.11.6"
  }
 },
 "nbformat": 4,
 "nbformat_minor": 2
}
